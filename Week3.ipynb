{
  "nbformat": 4,
  "nbformat_minor": 0,
  "metadata": {
    "colab": {
      "provenance": [],
      "authorship_tag": "ABX9TyPx9wgh/LCUszrp22DMFdbv",
      "include_colab_link": true
    },
    "kernelspec": {
      "name": "python3",
      "display_name": "Python 3"
    },
    "language_info": {
      "name": "python"
    }
  },
  "cells": [
    {
      "cell_type": "markdown",
      "metadata": {
        "id": "view-in-github",
        "colab_type": "text"
      },
      "source": [
        "<a href=\"https://colab.research.google.com/github/delowarshizar/Practice/blob/main/Week3.ipynb\" target=\"_parent\"><img src=\"https://colab.research.google.com/assets/colab-badge.svg\" alt=\"Open In Colab\"/></a>"
      ]
    },
    {
      "cell_type": "markdown",
      "source": [
        "task 1: take list from users find out second largest number. (Rule: do not used any build in method apply logical process)\n",
        "\n",
        "task 2: suppose you have 10 key with respected value using distance cost , now apply bfs or dfs\n"
      ],
      "metadata": {
        "id": "dT9Ch3RLt2sn"
      }
    },
    {
      "cell_type": "code",
      "source": [],
      "metadata": {
        "id": "KhM8xhHEyfXy"
      },
      "execution_count": null,
      "outputs": []
    },
    {
      "cell_type": "code",
      "execution_count": 4,
      "metadata": {
        "id": "TvEBahmBm3As"
      },
      "outputs": [],
      "source": [
        "graph = {\n",
        "    '5' : ['3','7'],\n",
        "    '3' : ['2', '4'],\n",
        "    '7' : ['8'],\n",
        "    '2' : [],\n",
        "    '4' : ['8'],\n",
        "    '8' : []\n",
        "}\n",
        "visited = []\n",
        "queue = []"
      ]
    },
    {
      "cell_type": "code",
      "source": [
        "def dfs_iterative(graph, start):\n",
        "    stack = [start]\n",
        "    visited = set()\n",
        "\n",
        "    while stack:\n",
        "        vertex = stack.pop()\n",
        "        if vertex not in visited:\n",
        "          print(vertex)\n",
        "          visited.add(vertex)\n",
        "          stack.extend(reversed(graph[vertex]))"
      ],
      "metadata": {
        "id": "pIVwxx-xnwb2"
      },
      "execution_count": 15,
      "outputs": []
    },
    {
      "cell_type": "code",
      "source": [
        "print(\"Following is the Depth-First Search\")\n",
        "dfs_iterative(graph, '5')"
      ],
      "metadata": {
        "colab": {
          "base_uri": "https://localhost:8080/"
        },
        "id": "DzpwxWLgnzpc",
        "outputId": "e8c40fa5-0b9f-4038-beac-8d5f51e9f8f1"
      },
      "execution_count": 16,
      "outputs": [
        {
          "output_type": "stream",
          "name": "stdout",
          "text": [
            "Following is the Depth-First Search\n",
            "5\n",
            "3\n",
            "2\n",
            "4\n",
            "8\n",
            "7\n"
          ]
        }
      ]
    },
    {
      "cell_type": "code",
      "source": [
        "input_str = input(\"Enter numbers: \")\n",
        "\n",
        "numbers = []\n",
        "for n in input_str.split():\n",
        "    numbers.append(int(n))\n",
        "\n",
        "largest = numbers[0]\n",
        "second_largest = None\n",
        "\n",
        "for num in numbers[1:]:\n",
        "    if num > largest:\n",
        "        second_largest = largest\n",
        "        largest = num\n",
        "    elif num != largest:\n",
        "        if second_largest is None or num > second_largest:\n",
        "            second_largest = num\n",
        "\n",
        "print(\"The second largest number is:\", second_largest)\n",
        "\n"
      ],
      "metadata": {
        "colab": {
          "base_uri": "https://localhost:8080/"
        },
        "id": "o8hQEJMktdbI",
        "outputId": "bd11c377-608b-475b-c093-97f7dc24b822"
      },
      "execution_count": 19,
      "outputs": [
        {
          "output_type": "stream",
          "name": "stdout",
          "text": [
            "Enter numbers: 1 2 3 4 5 6 7 8 9 10\n",
            "The second largest number is: 9\n"
          ]
        }
      ]
    },
    {
      "cell_type": "code",
      "source": [
        "graph = {\n",
        "    'A': [('B', 1), ('C', 2)],\n",
        "    'B': [('D', 3), ('E', 4)],\n",
        "    'C': [('F', 2), ('I', 2)],\n",
        "    'D': [('G', 1)],\n",
        "    'E': [('G', 1)],\n",
        "    'F': [('H', 1)],\n",
        "    'G': [('H', 1)],\n",
        "    'H': [],\n",
        "    'I': []\n",
        "}"
      ],
      "metadata": {
        "id": "xqRLG4Qdyo_0"
      },
      "execution_count": 17,
      "outputs": []
    },
    {
      "cell_type": "code",
      "source": [
        "def dfs_search(node, goal, path, cost, visited):\n",
        "    path.append(node)\n",
        "    visited.add(node)\n",
        "\n",
        "    if node == goal:\n",
        "        print(\"Found path:\", \" -> \".join(path))\n",
        "        print(\"Total cost:\", cost)\n",
        "        return True\n",
        "\n",
        "    for neighbor, weight in graph[node]:\n",
        "        if neighbor not in visited:\n",
        "            if dfs_search(neighbor, goal, path[:], cost + weight, visited):\n",
        "                return True\n",
        "\n",
        "    return False\n",
        "\n",
        "dfs_search('A', 'H', [], 0, set())"
      ],
      "metadata": {
        "colab": {
          "base_uri": "https://localhost:8080/"
        },
        "id": "FV3Dxi9Lyrpo",
        "outputId": "f63c533c-1445-44f9-8032-f17530773d0b"
      },
      "execution_count": 18,
      "outputs": [
        {
          "output_type": "stream",
          "name": "stdout",
          "text": [
            "Found path: A -> B -> D -> G -> H\n",
            "Total cost: 6\n"
          ]
        },
        {
          "output_type": "execute_result",
          "data": {
            "text/plain": [
              "True"
            ]
          },
          "metadata": {},
          "execution_count": 18
        }
      ]
    }
  ]
}