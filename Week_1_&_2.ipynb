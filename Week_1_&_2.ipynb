{
  "nbformat": 4,
  "nbformat_minor": 0,
  "metadata": {
    "colab": {
      "provenance": [],
      "authorship_tag": "ABX9TyPHeErBMnGYy3SdsotxOc2M",
      "include_colab_link": true
    },
    "kernelspec": {
      "name": "python3",
      "display_name": "Python 3"
    },
    "language_info": {
      "name": "python"
    }
  },
  "cells": [
    {
      "cell_type": "markdown",
      "metadata": {
        "id": "view-in-github",
        "colab_type": "text"
      },
      "source": [
        "<a href=\"https://colab.research.google.com/github/delowarshizar/Practice/blob/main/Week_1_%26_2.ipynb\" target=\"_parent\"><img src=\"https://colab.research.google.com/assets/colab-badge.svg\" alt=\"Open In Colab\"/></a>"
      ]
    },
    {
      "cell_type": "code",
      "execution_count": 2,
      "metadata": {
        "id": "CcXo7ZHSp5ab"
      },
      "outputs": [],
      "source": [
        "graph = {\n",
        "    '5' : ['3','7'],\n",
        "    '3' : ['2', '4'],\n",
        "    '7' : ['8'],\n",
        "    '2' : [],\n",
        "    '4' : ['8'],\n",
        "    '8' : []\n",
        "}\n",
        "visited = []\n",
        "queue = []"
      ]
    },
    {
      "cell_type": "code",
      "source": [
        "def bfs(visited, graph, node):\n",
        "    visited.append(node)\n",
        "    queue.append(node)\n",
        "    while queue:\n",
        "        m = queue.pop(0)\n",
        "        print(m, end = \" \")\n",
        "        for neighbour in graph[m]:\n",
        "            if neighbour not in visited:\n",
        "                visited.append(neighbour)\n",
        "                queue.append(neighbour)"
      ],
      "metadata": {
        "id": "7OC9e-bdsqHe"
      },
      "execution_count": 6,
      "outputs": []
    },
    {
      "cell_type": "code",
      "source": [
        "print(\"Following is the Breadth-First Search\")\n",
        "bfs(visited, graph, '5')"
      ],
      "metadata": {
        "colab": {
          "base_uri": "https://localhost:8080/"
        },
        "id": "nHw39L9ps5Ze",
        "outputId": "afb1a21c-6abb-4ef5-d90f-d1c8219b0a6d"
      },
      "execution_count": 7,
      "outputs": [
        {
          "output_type": "stream",
          "name": "stdout",
          "text": [
            "Following is the Breadth-First Search\n",
            "5 3 7 2 4 8 "
          ]
        }
      ]
    }
  ]
}