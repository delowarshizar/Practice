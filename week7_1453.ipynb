{
  "nbformat": 4,
  "nbformat_minor": 0,
  "metadata": {
    "colab": {
      "provenance": [],
      "mount_file_id": "1V2mGZeVzZkip1Sf4yn0Q_1oBUWhCSQge",
      "authorship_tag": "ABX9TyMJRF93UmvMSKilt/hITG2k",
      "include_colab_link": true
    },
    "kernelspec": {
      "name": "python3",
      "display_name": "Python 3"
    },
    "language_info": {
      "name": "python"
    }
  },
  "cells": [
    {
      "cell_type": "markdown",
      "metadata": {
        "id": "view-in-github",
        "colab_type": "text"
      },
      "source": [
        "<a href=\"https://colab.research.google.com/github/delowarshizar/Practice/blob/main/week7_1453.ipynb\" target=\"_parent\"><img src=\"https://colab.research.google.com/assets/colab-badge.svg\" alt=\"Open In Colab\"/></a>"
      ]
    },
    {
      "cell_type": "code",
      "execution_count": 3,
      "metadata": {
        "id": "E7CRJLqP9zpm",
        "colab": {
          "base_uri": "https://localhost:8080/"
        },
        "outputId": "4ca096db-7375-4aeb-8cc9-fb3ed0565120"
      },
      "outputs": [
        {
          "output_type": "stream",
          "name": "stdout",
          "text": [
            "The optimal value is : 12\n"
          ]
        }
      ],
      "source": [
        "import math\n",
        "\n",
        "def minmax(curDepth,nodeIndex,maxTurn,scores,targetDepth):\n",
        "    if(curDepth==targetDepth):\n",
        "        return scores[nodeIndex]\n",
        "\n",
        "    if maxTurn:\n",
        "      return max(minmax(curDepth+1,nodeIndex*2,False,scores,targetDepth),\n",
        "                 minmax(curDepth+1,nodeIndex*2+1,False,scores,targetDepth))\n",
        "    else:\n",
        "      return min(\n",
        "          minmax(curDepth+1,nodeIndex*2,True,scores,targetDepth),\n",
        "          minmax(curDepth+1,nodeIndex*2+1,True,scores,targetDepth)\n",
        "      )\n",
        "\n",
        "scores=[3,5,2,9,12,5,23,23]\n",
        "treeDepth=math.log(len(scores),2)\n",
        "print(\"The optimal value is : \",end=\"\")\n",
        "print(minmax(0,0,True,scores,treeDepth))"
      ]
    },
    {
      "cell_type": "code",
      "source": [
        "MAX, MIN = 1000, -1000\n",
        "\n",
        "def minimax (depth, nodeIndex, maximizingPlayer, values, alpha, beta):\n",
        "  if depth == 3:\n",
        "    return values[nodeIndex]\n",
        "\n",
        "  if maximizingPlayer:\n",
        "    best = MIN\n",
        "    for i in range(0, 2):\n",
        "      val = minimax(depth + 1, nodeIndex * 2 + i, False, values, alpha, beta)\n",
        "      best = max(best, val)\n",
        "      alpha = max(alpha, best)\n",
        "      if beta <= alpha:\n",
        "        break\n",
        "    return best\n",
        "\n",
        "  else:\n",
        "    best = MAX\n",
        "    for i in range(0, 2):\n",
        "      val = minimax(depth + 1, nodeIndex * 2 + i, True, values, alpha, beta)\n",
        "      best = min(best, val)\n",
        "      beta = min(beta, best)\n",
        "      if beta <= alpha:\n",
        "        break\n",
        "    return best\n",
        "\n",
        "if __name__== \"__main__\":\n",
        "  values=[3,5,6,9,1,2,0,-1]\n",
        "  print(\"The optimal value is :\", minimax(0, 0, True, values, MIN, MAX))"
      ],
      "metadata": {
        "colab": {
          "base_uri": "https://localhost:8080/"
        },
        "id": "0BcHNPBvFrag",
        "outputId": "e1215186-041c-4e40-e790-a5bd9736211e"
      },
      "execution_count": 6,
      "outputs": [
        {
          "output_type": "stream",
          "name": "stdout",
          "text": [
            "The optimal value is : 5\n"
          ]
        }
      ]
    }
  ]
}